{
  "nbformat": 4,
  "nbformat_minor": 0,
  "metadata": {
    "colab": {
      "name": "merge-datasets.ipynb",
      "provenance": [],
      "collapsed_sections": []
    },
    "kernelspec": {
      "name": "python3",
      "display_name": "Python 3"
    },
    "language_info": {
      "name": "python"
    }
  },
  "cells": [
    {
      "cell_type": "code",
      "execution_count": null,
      "metadata": {
        "id": "aKzu7ZUFFL7r",
        "colab": {
          "base_uri": "https://localhost:8080/"
        },
        "outputId": "e304f9a7-dbff-4914-9aa0-09e61d4a871a"
      },
      "outputs": [
        {
          "output_type": "stream",
          "name": "stdout",
          "text": [
            "Drive already mounted at /content/gdrive; to attempt to forcibly remount, call drive.mount(\"/content/gdrive\", force_remount=True).\n"
          ]
        }
      ],
      "source": [
        "import pandas as pd\n",
        "from google.colab import drive\n",
        "import os\n",
        "\n",
        "drive.mount('/content/gdrive')\n",
        "\n",
        "# You need to modify this \"path\" if you want to mount your own Google Drive account later.\n",
        "# I have currently mounted mine, if you mount yours later, it definitely doesn't work!\n",
        "path = \"/content/gdrive/MyDrive/CICIDS_DATASETS/\"\n",
        "\n",
        "datasets = os.listdir(path) # It is going to store all files name in the given path into an array"
      ]
    },
    {
      "cell_type": "code",
      "source": [
        "df = pd.concat([pd.read_csv(path + dataset) for dataset in datasets], ignore_index=True)  # Merge all things together\n",
        "df.rename(columns={name:name.strip() for name in df.columns}, inplace=True) # Trim column names to remove whitespaces\n",
        "print(df.head())"
      ],
      "metadata": {
        "id": "NEFEdi_3ZhYM",
        "colab": {
          "base_uri": "https://localhost:8080/"
        },
        "outputId": "8d841436-1fef-4c7c-bf38-b875a73089b2"
      },
      "execution_count": null,
      "outputs": [
        {
          "output_type": "stream",
          "name": "stdout",
          "text": [
            "   Destination Port  Flow Duration  ...  Idle Min   Label\n",
            "0              3268      112740690  ...  15400000  BENIGN\n",
            "1               389      112740560  ...  15400000  BENIGN\n",
            "2                 0      113757377  ...   5504997  BENIGN\n",
            "3              5355         100126  ...         0  BENIGN\n",
            "4                 0          54760  ...         0  BENIGN\n",
            "\n",
            "[5 rows x 79 columns]\n"
          ]
        }
      ]
    },
    {
      "cell_type": "code",
      "source": [
        "df.to_csv(path + 'df.csv', index=False)  # Save mereged data as a csv file in the given path - (Without the \"index\" column)"
      ],
      "metadata": {
        "id": "J1eUqi0Wh-ni"
      },
      "execution_count": null,
      "outputs": []
    },
    {
      "cell_type": "code",
      "source": [
        "d = pd.read_csv(path + 'df.csv')"
      ],
      "metadata": {
        "id": "43oWebSlDjTv"
      },
      "execution_count": null,
      "outputs": []
    }
  ]
}